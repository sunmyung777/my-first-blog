{
 "cells": [
  {
   "cell_type": "code",
   "execution_count": 19,
   "metadata": {},
   "outputs": [],
   "source": [
    "from bs4 import BeautifulSoup \n",
    "import urllib.request as ur"
   ]
  },
  {
   "cell_type": "code",
   "execution_count": 18,
   "metadata": {},
   "outputs": [],
   "source": [
    "bs = bs4.BeautifulSoup(ur.urlopen('http://techneedle.com/?s=%EA%B5%90%EC%9C%A1').read().decode('utf-8'), 'html.parser')"
   ]
  },
  {
   "cell_type": "code",
   "execution_count": 37,
   "metadata": {},
   "outputs": [],
   "source": [
    "with ur.urlopen('http://techneedle.com/?s=%EA%B5%90%EC%9C%A1') as response:\n",
    "    html = response.read()\n",
    "    soup = BeautifulSoup(html, 'html.parser')\n",
    "    div=soup.find_all('a',{'rel':'bookmark'})"
   ]
  },
  {
   "cell_type": "code",
   "execution_count": 47,
   "metadata": {
    "scrolled": true
   },
   "outputs": [
    {
     "name": "stdout",
     "output_type": "stream",
     "text": [
      "아마존, 온라인 교육 서비스 출시 예정\n",
      "테크 교육 수료자가 일자리를 구하지 못할 시 환불해줄 유다시티(Udacity)\n",
      "구글과 Udacity, 기술 스타트업을 위한 교육 프로그램 개설\n",
      "링크드인, 온라인 교육업체 Lynda.com 거액에 인수\n",
      "저커버그, 부인과 함께 실리콘밸리 공교육에 1200억 기부\n",
      "증강현실 이용한 아이들 교육용 앱 Osmo\n",
      "집중하고 있는지 감시하는 온라인 교육 기술\n",
      "교육 테크 벤처 Engrade에 삼성벤처 투자\n",
      "코딩 교육 플랫폼: Treehouse\n",
      "킥보드, 주목받는 교육용 애널리틱스 스타트업\n",
      "온라인 비디오 교육 스타트업 Udemy\n",
      "또다른 온라인 교육 서비스: CreativeLIVE\n",
      "아이들을 위한 교육앱: Duck Duck Moose\n",
      "교육기술 스타트업 EverFi, 1000만 달러 펀딩\n",
      "맞춤형 교육 블렌디드 러닝 트렌드\n",
      "인간과 인공지능의 토론 대결에서 인간이 승리했다\n",
      "techNeedle Essentials (1)\n",
      "아마존은 이번주에 무엇을 했나? (2018년 9월 5주)\n"
     ]
    }
   ],
   "source": [
    "for i in range(0,len(div),2):\n",
    "    print(div[i].text)"
   ]
  },
  {
   "cell_type": "code",
   "execution_count": 53,
   "metadata": {},
   "outputs": [],
   "source": [
    "with ur.urlopen('http://techneedle.com/?s=%EC%BD%94%EB%94%A9+%EA%B5%90%EC%9C%A1') as response:\n",
    "    html = response.read()\n",
    "    soup = BeautifulSoup(html, 'html.parser')\n",
    "    div=soup.find_all('a',{'rel':'bookmark'})"
   ]
  },
  {
   "cell_type": "code",
   "execution_count": 54,
   "metadata": {},
   "outputs": [
    {
     "name": "stdout",
     "output_type": "stream",
     "text": [
      "코딩 교육 플랫폼: Treehouse\n",
      "코딩을 레고처럼 쉽고 재밌게 만든 DIY키트\n",
      "초등학생에게 코딩을 가르치기로 한 호주\n",
      "링크드인, 온라인 교육업체 Lynda.com 거액에 인수\n",
      "오바마, “누구나 어려서부터 코딩을 배워야”\n",
      "코딩을 교과 과목으로 도입하는 학교들 증가 추세\n",
      "코딩을 배우는 Codecademy\n",
      "선물하기 좋은 IT제품 (월스트리트저널 선정)\n",
      "구글, 머신러닝 기술 TensorFlow 오픈소스로 공개\n",
      "라스베리 파이 재단과 코드 클럽 합병\n"
     ]
    }
   ],
   "source": [
    "for i in range(0,len(div),2):\n",
    "    print(div[i].text)"
   ]
  },
  {
   "cell_type": "code",
   "execution_count": null,
   "metadata": {},
   "outputs": [],
   "source": []
  }
 ],
 "metadata": {
  "kernelspec": {
   "display_name": "Python 3",
   "language": "python",
   "name": "python3"
  },
  "language_info": {
   "codemirror_mode": {
    "name": "ipython",
    "version": 3
   },
   "file_extension": ".py",
   "mimetype": "text/x-python",
   "name": "python",
   "nbconvert_exporter": "python",
   "pygments_lexer": "ipython3",
   "version": "3.7.3"
  }
 },
 "nbformat": 4,
 "nbformat_minor": 2
}
