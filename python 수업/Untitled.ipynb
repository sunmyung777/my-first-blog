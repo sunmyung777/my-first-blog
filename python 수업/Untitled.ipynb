{
 "cells": [
  {
   "cell_type": "code",
   "execution_count": 1,
   "metadata": {},
   "outputs": [],
   "source": [
    "import urllib.request as ur\n",
    "import bs4\n",
    "import pandas as pd"
   ]
  },
  {
   "cell_type": "code",
   "execution_count": 2,
   "metadata": {},
   "outputs": [],
   "source": [
    "res=ur.urlopen('https://www.cbinsights.com/research-unicorn-companies')\n",
    "web = res.read().decode('utf-8')\n",
    "web\n",
    "bs = bs4.BeautifulSoup(web, 'html.parser')\n",
    "body=bs.find_all('table',class_='sortable-theme-bootstrap')\n",
    "get=body[0].find('tbody')"
   ]
  },
  {
   "cell_type": "code",
   "execution_count": 56,
   "metadata": {
    "scrolled": true
   },
   "outputs": [],
   "source": [
    "helps=get.find_all('td')\n",
    "main=len(helps)\n",
    "name_list=[]\n",
    "loc_list=[]"
   ]
  },
  {
   "cell_type": "code",
   "execution_count": 57,
   "metadata": {},
   "outputs": [],
   "source": [
    "for x in range(0,main,6):\n",
    "    name_list.append(helps[x].find('a').getText())\n",
    "    loc_list.append(helps[x+3].getText())\n",
    "    "
   ]
  },
  {
   "cell_type": "code",
   "execution_count": 63,
   "metadata": {
    "scrolled": true
   },
   "outputs": [],
   "source": [
    "d={'이름':name_list,'지역':loc_list}\n",
    "unicorn=pd.DataFrame(data=d)\n",
    "how={}\n",
    "how['he']=1\n",
    "how['he']="
   ]
  },
  {
   "cell_type": "code",
   "execution_count": null,
   "metadata": {},
   "outputs": [],
   "source": [
    "how={}\n",
    "for x in loc_list:\n",
    "    if(how[x]=='')"
   ]
  }
 ],
 "metadata": {
  "kernelspec": {
   "display_name": "Python 3",
   "language": "python",
   "name": "python3"
  },
  "language_info": {
   "codemirror_mode": {
    "name": "ipython",
    "version": 3
   },
   "file_extension": ".py",
   "mimetype": "text/x-python",
   "name": "python",
   "nbconvert_exporter": "python",
   "pygments_lexer": "ipython3",
   "version": "3.7.3"
  }
 },
 "nbformat": 4,
 "nbformat_minor": 2
}
