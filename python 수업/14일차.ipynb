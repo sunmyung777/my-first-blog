{
 "cells": [
  {
   "cell_type": "code",
   "execution_count": 57,
   "metadata": {},
   "outputs": [],
   "source": [
    "import tkinter as tk\n",
    "from tkinter import ttk\n",
    "import tkinter.font\n",
    "from tkinter import filedialog\n",
    "import pandas as pd\n",
    "from pandastable import Table,TableModel\n",
    "import matplotlib.pyplot as plt\n",
    "from matplotlib.backends.backend_tkagg import FigureCanvasTkAgg\n",
    "from matplotlib import font_manager,rc\n",
    "import platform"
   ]
  },
  {
   "cell_type": "code",
   "execution_count": 66,
   "metadata": {},
   "outputs": [],
   "source": [
    "win=tk.Tk()\n",
    "win.geometry('500x500')\n",
    "\n",
    "font = tk.font.Font(family='맑은 고딕',size=11)\n",
    "\n",
    "label=tk.Label(win,text=\"파일이름 : \",font=font)\n",
    "label.place(relx=0,rely=0)\n",
    "\n",
    "button=tk.Button(win,text='파일찾기',command=find_file,font=font)\n",
    "button.place(relx=0.8,rely=0,relwidth=0.2,relheight=0.1)\n",
    "\n",
    "filelabel=tk.Label(win,text=\" \",font=font)\n",
    "filelabel.place(relx=0.2,y=10,relwidth=0.55)\n",
    "\n",
    "df=pd.DataFrame()\n",
    "\n",
    "def find_file():\n",
    "    filename=filedialog.askopenfilename(initildir='/',title='select file',filetypes=(('csv files','*.csv'),('all files','*.*')))\n",
    "    filelabel.configure(text=filename)\n",
    "    global df\n",
    "    df=pd.read_csv(filename,encoding='utf-8')\n",
    "    frame=tk.Frame()\n",
    "    frame.place(relx=0,rely=0.15,relwidth=1)\n",
    "    pt=Table(frame,dataframe=df.head())\n",
    "    pt.show()\n",
    "    draw_barraph(df.head())"
   ]
  },
  {
   "cell_type": "code",
   "execution_count": 67,
   "metadata": {},
   "outputs": [
    {
     "name": "stderr",
     "output_type": "stream",
     "text": [
      "Exception in Tkinter callback\n",
      "Traceback (most recent call last):\n",
      "  File \"C:\\Users\\user\\Anaconda3\\lib\\tkinter\\__init__.py\", line 1702, in __call__\n",
      "    return self.func(*args)\n",
      "  File \"<ipython-input-64-ef5384746d2f>\", line 18, in find_file\n",
      "    filename=filedialog.askopenfilename(initildir='/',title='select file',filetypes=(('csv files','*.csv'),('all files','*.*')))\n",
      "  File \"C:\\Users\\user\\Anaconda3\\lib\\tkinter\\filedialog.py\", line 375, in askopenfilename\n",
      "    return Open(**options).show()\n",
      "  File \"C:\\Users\\user\\Anaconda3\\lib\\tkinter\\commondialog.py\", line 43, in show\n",
      "    s = w.tk.call(self.command, *w._options(self.options))\n",
      "_tkinter.TclError: bad option \"-initildir\": must be -defaultextension, -filetypes, -initialdir, -initialfile, -multiple, -parent, -title, or -typevariable\n"
     ]
    }
   ],
   "source": [
    "win.mainloop()"
   ]
  },
  {
   "cell_type": "code",
   "execution_count": null,
   "metadata": {},
   "outputs": [],
   "source": []
  }
 ],
 "metadata": {
  "kernelspec": {
   "display_name": "Python 3",
   "language": "python",
   "name": "python3"
  },
  "language_info": {
   "codemirror_mode": {
    "name": "ipython",
    "version": 3
   },
   "file_extension": ".py",
   "mimetype": "text/x-python",
   "name": "python",
   "nbconvert_exporter": "python",
   "pygments_lexer": "ipython3",
   "version": "3.7.0"
  }
 },
 "nbformat": 4,
 "nbformat_minor": 2
}
