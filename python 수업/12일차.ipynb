{
 "cells": [
  {
   "cell_type": "code",
   "execution_count": 156,
   "metadata": {},
   "outputs": [],
   "source": [
    "import tkinter as tk\n",
    "from tkinter import ttk\n",
    "import urllib.request as ur\n",
    "import json\n",
    "import tkinter.font\n",
    "from tkinter import messagebox as msg"
   ]
  },
  {
   "cell_type": "code",
   "execution_count": 157,
   "metadata": {},
   "outputs": [],
   "source": [
    "def button_find():\n",
    "    if textfield.get()=='':\n",
    "        msg.showerror('에러','날짜를 입력해주세요!!')\n",
    "        return\n",
    "    \n",
    "    url2='http://dev-api.dimigo.in/dimibobs/'+textfield.get()\n",
    "    res=ur.urlopen(url2)\n",
    "    if res.getcode()==200:\n",
    "        menu=res.read().decode('utf-8')\n",
    "        menu_j=json.loads(menu)\n",
    "        meal=\"\"\n",
    "        if ch1var.get()==1:\n",
    "            meal=meal+'아침'+\" : \"+menu_j['breakfast']+'\\n'\n",
    "        if ch2var.get()==1:\n",
    "            meal=meal+'점심'+\" : \"+menu_j['lunch']+'\\n'\n",
    "        if ch3var.get()==1:\n",
    "            meal=meal+'저녁'+\" : \"+menu_j['dinner']+'\\n'\n",
    "        if rd1var.get():    \n",
    "            label2.configure(text=combovar.get()+\" : \"+menu_j[combovar.get()])\n",
    "        else:\n",
    "            label2.configure(text=combovar.get()+\" : \"+menu_j[combovar.get()])"
   ]
  },
  {
   "cell_type": "code",
   "execution_count": 158,
   "metadata": {},
   "outputs": [],
   "source": [
    "def check_click():\n",
    "    if ch1var.get()==1:\n",
    "        combobox.current(0)\n",
    "        button_find()\n",
    "    elif ch2var.get()==1:\n",
    "        combobox.current(1)\n",
    "        button_find()\n",
    "    elif ch3var.get()==1:\n",
    "        combobox.current(2)\n",
    "        button_find()"
   ]
  },
  {
   "cell_type": "code",
   "execution_count": 159,
   "metadata": {},
   "outputs": [],
   "source": [
    "win=tk.Tk()\n",
    "win.geometry('800x200')\n",
    "\n",
    "font=tk.font.Font(family='맑은 고딕',size=14)\n",
    "\n",
    "textfield=tk.StringVar()\n",
    "entry=tk.Entry(win,textvariable=textfield,font=font)\n",
    "entry.place(x=0,y=0,relwidth=0.33,relheight=0.2)\n",
    "\n",
    "combovar=tk.StringVar()\n",
    "combobox=tk.ttk.Combobox(win,textvariable=combovar)\n",
    "combobox['values']=('breakfast','lunch','dinner')\n",
    "combobox.place(relx=0.33,rely=0,relwidth=0.33,relheight=0.2)\n",
    "combobox.current(0)\n",
    "\n",
    "button=tk.Button(win,text='click',bg='yellow',command=button_find,font=font)\n",
    "button.place(relx=0.66,rely=0,relwidth=0.33,relheight=0.2)\n",
    "\n",
    "ch1var=tk.IntVar()\n",
    "ch2var=tk.IntVar()\n",
    "ch3var=tk.IntVar()\n",
    "ch1=tk.Checkbutton(win,text='아침',variable=ch1var,command=check_click)\n",
    "ch1.place(relx=0,rely=0.2,relwidth=0.33)\n",
    "ch2=tk.Checkbutton(win,text='점심',variable=ch2var,command=check_click)\n",
    "ch2.place(relx=0.33,rely=0.2,relwidth=0.33)\n",
    "ch3=tk.Checkbutton(win,text='저녁',variable=ch3var,command=check_click)\n",
    "ch3.place(relx=0.67,rely=0.2,relwidth=0.33)"
   ]
  },
  {
   "cell_type": "code",
   "execution_count": 160,
   "metadata": {},
   "outputs": [],
   "source": [
    "def radio_click():\n",
    "    value=rd1var.get()\n",
    "    combobox.current(value)\n",
    "    button_find()\n",
    "        \n",
    "frame=tk.LabelFrame(win,text='시간 선택')\n",
    "frame.place(relx=5,rely=0.4,relwidth=0.9)\n",
    "\n",
    "rd1var=tk.IntVar()\n",
    "rd1=tk.Radiobutton(frame,text='아침',variable=rd1var,command=radio_click,value=0)\n",
    "#rd1.place(relx=0,rely=0.45,relwidth=0.33)\n",
    "rd2=tk.Radiobutton(frame,text='점심',variable=rd1var,command=radio_click,value=1)\n",
    "#rd2.place(relx=0.33,rely=0.45,relwidth=0.33)\n",
    "rd3=tk.Radiobutton(frame,text='저녁',variable=rd1var,command=radio_click,value=2)\n",
    "#rd3.place(relx=0.67,rely=0.45,relwidth=0.33)"
   ]
  },
  {
   "cell_type": "code",
   "execution_count": 161,
   "metadata": {},
   "outputs": [],
   "source": [
    "label=tk.Label(win,text=\"\")\n",
    "label.place(relx=0,rely=0.6,relwidth=1)\n",
    "label2=tk.Label(win,text=\"\")\n",
    "label2.place(relx=0,rely=0.8,relwidth=1)"
   ]
  },
  {
   "cell_type": "code",
   "execution_count": 162,
   "metadata": {},
   "outputs": [],
   "source": [
    "win.mainloop()"
   ]
  },
  {
   "cell_type": "code",
   "execution_count": null,
   "metadata": {},
   "outputs": [],
   "source": []
  }
 ],
 "metadata": {
  "kernelspec": {
   "display_name": "Python 3",
   "language": "python",
   "name": "python3"
  },
  "language_info": {
   "codemirror_mode": {
    "name": "ipython",
    "version": 3
   },
   "file_extension": ".py",
   "mimetype": "text/x-python",
   "name": "python",
   "nbconvert_exporter": "python",
   "pygments_lexer": "ipython3",
   "version": "3.7.0"
  }
 },
 "nbformat": 4,
 "nbformat_minor": 2
}
