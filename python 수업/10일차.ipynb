{
 "cells": [
  {
   "cell_type": "code",
   "execution_count": 1,
   "metadata": {},
   "outputs": [],
   "source": [
    "import tkinter as tk\n",
    "from tkinter import ttk\n",
    "import urllib.request as ur\n",
    "import json"
   ]
  },
  {
   "cell_type": "code",
   "execution_count": 2,
   "metadata": {},
   "outputs": [
    {
     "data": {
      "text/plain": [
       "''"
      ]
     },
     "execution_count": 2,
     "metadata": {},
     "output_type": "execute_result"
    }
   ],
   "source": [
    "win=tk.Tk()\n",
    "win.geometry('1000x300')"
   ]
  },
  {
   "cell_type": "code",
   "execution_count": 3,
   "metadata": {},
   "outputs": [
    {
     "ename": "SyntaxError",
     "evalue": "unexpected EOF while parsing (<ipython-input-3-31b3703d3b14>, line 2)",
     "output_type": "error",
     "traceback": [
      "\u001b[1;36m  File \u001b[1;32m\"<ipython-input-3-31b3703d3b14>\"\u001b[1;36m, line \u001b[1;32m2\u001b[0m\n\u001b[1;33m    \u001b[0m\n\u001b[1;37m    ^\u001b[0m\n\u001b[1;31mSyntaxError\u001b[0m\u001b[1;31m:\u001b[0m unexpected EOF while parsing\n"
     ]
    }
   ],
   "source": [
    "def onclick():\n",
    "    "
   ]
  },
  {
   "cell_type": "code",
   "execution_count": 4,
   "metadata": {},
   "outputs": [
    {
     "ename": "IndentationError",
     "evalue": "expected an indented block (<ipython-input-4-b39e77f40518>, line 5)",
     "output_type": "error",
     "traceback": [
      "\u001b[1;36m  File \u001b[1;32m\"<ipython-input-4-b39e77f40518>\"\u001b[1;36m, line \u001b[1;32m5\u001b[0m\n\u001b[1;33m    combovar=tk.StringVar()\u001b[0m\n\u001b[1;37m                           ^\u001b[0m\n\u001b[1;31mIndentationError\u001b[0m\u001b[1;31m:\u001b[0m expected an indented block\n"
     ]
    }
   ],
   "source": [
    "combovar=tk.StringVar()\n",
    "combobox=tk.ttk.Combobox(win,textvariable=combovar,width=20)\n",
    "combobox['values']=('breakfast','lunch','dinner')\n",
    "combobox.grid(column=1,row=0)\n",
    "combobox.current(0)\n",
    "button=tk.Button(win,text='click',bg='yellow',command=onclick,width=20)\n",
    "button.grid(column=2,row=0)\n",
    "entry=tk.Entry(win,width=20)\n",
    "entry.grid(column=0,row=0)\n",
    "ch1var=tk.IntVar()\n",
    "ch2var=tk.IntVar()\n",
    "ch3var=tk.IntVar()\n",
    "ch1=tk.Checkbutton(win,text='아침',value=1,variable=ch1var,command=check_click).grid(column=0,row=2,columnspan=1)\n",
    "ch3=tk.Checkbutton(win,text='점심',value=2,variable=ch2var,command=check_click).grid(column=1,row=2,columnspan=1)\n",
    "ch3=tk.Checkbutton(win,text='저녁',value=3,variable=ch3var,command=check_click).grid(column=2,row=2,columnspan=1)"
   ]
  },
  {
   "cell_type": "code",
   "execution_count": 5,
   "metadata": {},
   "outputs": [],
   "source": [
    "win.mainloop()"
   ]
  },
  {
   "cell_type": "code",
   "execution_count": null,
   "metadata": {},
   "outputs": [],
   "source": []
  }
 ],
 "metadata": {
  "kernelspec": {
   "display_name": "Python 3",
   "language": "python",
   "name": "python3"
  },
  "language_info": {
   "codemirror_mode": {
    "name": "ipython",
    "version": 3
   },
   "file_extension": ".py",
   "mimetype": "text/x-python",
   "name": "python",
   "nbconvert_exporter": "python",
   "pygments_lexer": "ipython3",
   "version": "3.7.0"
  }
 },
 "nbformat": 4,
 "nbformat_minor": 2
}
