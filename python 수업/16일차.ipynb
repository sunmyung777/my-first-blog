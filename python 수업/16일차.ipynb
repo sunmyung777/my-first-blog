{
 "cells": [
  {
   "cell_type": "code",
   "execution_count": 2,
   "metadata": {},
   "outputs": [],
   "source": [
    "import urllib.request as ur\n",
    "import bs4\n",
    "from selenium import webdriver\n",
    "import time\n",
    "import tkinter as tk\n",
    "from pandastable import Table,TableModel\n",
    "import numpy as np\n",
    "import pandas as pd"
   ]
  },
  {
   "cell_type": "code",
   "execution_count": 26,
   "metadata": {},
   "outputs": [],
   "source": [
    "res = ur.urlopen('http://www.megastudy.net/Entinfo/2019_jiwon/exam/arrange/main.asp?seq=244')\n",
    "web = res.read().decode('euc-kr')\n",
    "bs = bs4.BeautifulSoup(web, 'html.parser')"
   ]
  },
  {
   "cell_type": "code",
   "execution_count": 27,
   "metadata": {
    "scrolled": true
   },
   "outputs": [],
   "source": [
    "table=bs.find_all('div',class_='univ_list')"
   ]
  },
  {
   "cell_type": "code",
   "execution_count": 32,
   "metadata": {
    "scrolled": true
   },
   "outputs": [
    {
     "data": {
      "text/plain": [
       "[<div class=\"univ_list\">\n",
       " <div class=\"tit_bg\">\n",
       " <div class=\"s_tit fl\">\n",
       " <strong class=\"mr15\">&gt; 계열 선택 ㅣ</strong>\n",
       " <input checked=\"\" class=\"rdo mr5\" name=\"gae_flg\" onclick=\"fnc_Unit();\" type=\"radio\" value=\"\"><label class=\"mr15\" for=\"\">전체</label>\n",
       " <input class=\"rdo mr5\" name=\"gae_flg\" onclick=\"fnc_Unit();\" type=\"radio\" value=\"1\"><label class=\"mr15\" for=\"\">인문계열</label>\n",
       " <input class=\"rdo mr5\" name=\"gae_flg\" onclick=\"fnc_Unit();\" type=\"radio\" value=\"2\"><label for=\"\">자연계열</label>\n",
       " </input></input></input></div>\n",
       " <div class=\"s_tit fr\">\n",
       " <strong class=\"mr15\">&gt; 반영 점수 ㅣ</strong>\n",
       " <input checked=\"\" class=\"rdo mr5\" name=\"ban_score_type\" onclick=\"fnc_Unit();\" type=\"radio\" value=\"1\"><label class=\"mr15\" for=\"\">표준점수</label>\n",
       " <input class=\"rdo mr5\" name=\"ban_score_type\" onclick=\"fnc_Unit();\" type=\"radio\" value=\"2\"><label class=\"mr15\" for=\"\">백분위</label>\n",
       " </input></input></div>\n",
       " </div>\n",
       " <div class=\"tb_section tb_type02 mb30\" id=\"unit_area\">\n",
       " </div>\n",
       " </div>]"
      ]
     },
     "execution_count": 32,
     "metadata": {},
     "output_type": "execute_result"
    }
   ],
   "source": [
    "tableszxdcfvgbhjnnnnnnnnnnnnnbgvfcdxszaZsxdecrfvtgbyhunjmiko,lkimjuhygbtvfrcdexswzaq"
   ]
  },
  {
   "cell_type": "code",
   "execution_count": null,
   "metadata": {},
   "outputs": [],
   "source": []
  }
 ],
 "metadata": {
  "kernelspec": {
   "display_name": "Python 3",
   "language": "python",
   "name": "python3"
  },
  "language_info": {
   "codemirror_mode": {
    "name": "ipython",
    "version": 3
   },
   "file_extension": ".py",
   "mimetype": "text/x-python",
   "name": "python",
   "nbconvert_exporter": "python",
   "pygments_lexer": "ipython3",
   "version": "3.7.0"
  }
 },
 "nbformat": 4,
 "nbformat_minor": 2
}
